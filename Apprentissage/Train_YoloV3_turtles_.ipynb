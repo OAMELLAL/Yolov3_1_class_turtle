{
  "nbformat": 4,
  "nbformat_minor": 0,
  "metadata": {
    "colab": {
      "name": "Train_YoloV3_turtles .ipynb",
      "provenance": [],
      "collapsed_sections": []
    },
    "kernelspec": {
      "name": "python3",
      "display_name": "Python 3"
    },
    "accelerator": "GPU"
  },
  "cells": [
    {
      "cell_type": "code",
      "metadata": {
        "id": "e20WvA00-4QE"
      },
      "source": [
        "# *******************************************************\n",
        "# Copyright (C) 2020 AMELLAL Oussama <ouss.amellal@gmail.com>\n",
        "#\n",
        "# This file is part of 'Yolov3_1_classe_tortue' project.\n",
        "#\n",
        "# 'Yolov3_1_classe_tortue' project can not be copied and/or distributed without the express permission of AMELLAL Oussama\n",
        "#  *******************************************************"
      ],
      "execution_count": null,
      "outputs": []
    },
    {
      "cell_type": "markdown",
      "metadata": {
        "id": "XZppVT4puhHF"
      },
      "source": [
        "**0) Préparation de la base de données**"
      ]
    },
    {
      "cell_type": "code",
      "metadata": {
        "id": "0g4ov8E6ud3r"
      },
      "source": [
        "# Ajouter vos images sélectionnées dans un dossier appelé 'images' par exemple\n",
        "# Télécharger la dernière version de  labelImg (v1.8.0 pour windows) : https://tzutalin.github.io/labelImg/ \n",
        "# 1. Extraire le fichier .Zip téléchargé\n",
        "# 2. Cherchez un dossier nommé 'data' ce dossier contient le fichier 'predefined_classes' ouvrez ce fichier pour le modifier.\n",
        "# supprimez les noms de classes présentes dans le fichier et ajoutez le nom de votre classe dans notre exemple on détecte\n",
        "# une seule classe, ainsi on ajoute une seule ligne :\n",
        "# tortue\n",
        "# Enregistrez et fermez le fichier.\n",
        "# 3. Exécuter le fichier 'LabelImg.exe'\n",
        "# 4. La fenêtre du logiciel LabelImg s'ouvre, Changer le format de sortie des fichiers à YOLO en cliquant sur le bouton  '</> PascalVOC' \n",
        "# 5. Cliquez sur 'Open Dir'\n",
        "# 6. Sélectionnez le dossier où vous avez placé vos images.\n",
        "# 7. Une image de la base de données va s'afficher, Cliquez sur 'Create RectBox' et sélectionnez avec la sourie les objets ou l'objet présents dans l'images.\n",
        "# 8. Une petite fenêtre va s'afficher vous donnant le choix de sélectionner la classe de l'objet, sélectionnez la classe et cliquez sur Ok.\n",
        "# 9. Cliquez sur save et cliquez sur 'Next Image'\n",
        "# 10. Refaire les étapes 7, 8 et 9 pour tous les images de la base de données.\n",
        "# 11. Ouvrez le fichier 'images' et sélectionnez toutes les images et les fichiers '.txt' présents dans le dossier (ctrl + A) puis un clique droit sur les fichiers sélectionnés \n",
        "# et cliquez 'Ajouter à l'archive...' changez le format de fichier à '.Zip' et cliquez Ok, un fichier images.zip sera créé. \n",
        "\n",
        "\n",
        "# Remarque : vérifiez que pour chaque image un fichier '.txt' a été créé, ce fichier contient 5 valeurs pour chaque objet présent dans l'image : <object-class> <x> <y> <width> <height>\n",
        "# <object-class> : un nombre entier qui représente le label de la classe, ce nombre est entre 0 et (Nombre de classes-1)\n",
        "# <x> <y> <width> <height> : des valeurs flottantes relatives à la largeur et à la hauteur de l'image, varient entre 0,0 et 1,0.\n",
        "# <x> <y> - sont le centre du rectangle, et <width> <height> la largeur et la hauteur du rectangle sélectionné.\n",
        "\n",
        "# Après la création de la base de données créer un dossier dans votre Google Drive et nommé-le 'yolov3' puis ajoutez dans ce dossier le fichier images.zip\n"
      ],
      "execution_count": null,
      "outputs": []
    },
    {
      "cell_type": "markdown",
      "metadata": {
        "id": "wHBQcQzjD6HJ"
      },
      "source": [
        "**1) Connexion à google drive**\n",
        "\n"
      ]
    },
    {
      "cell_type": "code",
      "metadata": {
        "id": "bwp6NIrsZZFP"
      },
      "source": [
        "# Vérifier si le GPU NVIDIA est activé\n",
        "#smi : System Management Interface\n",
        "#Documentation smi : http://developer.download.nvidia.com/compute/DCGM/docs/nvidia-smi-367.38.pdf\n",
        "!nvidia-smi"
      ],
      "execution_count": null,
      "outputs": []
    },
    {
      "cell_type": "code",
      "metadata": {
        "id": "9e9ZW3sqMEPO"
      },
      "source": [
        "# Charger vos fichiers présents dans votre Google Drive\n",
        "#Cette commande vous donnera un lien pour donner l'autorisation à COLab de charger des fichiers présents \n",
        "# dans votre compte google Drive, puis vous devrez copier-coller la clé générée.\n",
        "\n",
        "from google.colab import drive\n",
        "drive.mount(\"/content/drive\", force_remount=True)\n",
        "# Pour simplifier les chemins, On utilise un lien symbolique, puis vous pourrez accéder à vos fichiers Google Drive en utilisant simplement le chemin  /mydrive  \n",
        "!ln -s /content/drive/My\\ Drive/ /mydrive\n",
        "!ls /mydrive\n",
        " "
      ],
      "execution_count": null,
      "outputs": []
    },
    {
      "cell_type": "code",
      "metadata": {
        "id": "pjiY8967oFac"
      },
      "source": [
        "%cd /mydrive/yolov3 \n",
        "!ls # lister les fichiers présents dans le dossier 'yolov3'"
      ],
      "execution_count": null,
      "outputs": []
    },
    {
      "cell_type": "markdown",
      "metadata": {
        "id": "t7utW4in4azV"
      },
      "source": [
        " **2) Cloner Darknet**\n",
        "\n"
      ]
    },
    {
      "cell_type": "code",
      "metadata": {
        "id": "e03U7Zi-qMr2"
      },
      "source": [
        "# Cloner daknet dans google colab\n",
        "!git clone https://github.com/AlexeyAB/darknet"
      ],
      "execution_count": null,
      "outputs": []
    },
    {
      "cell_type": "markdown",
      "metadata": {
        "id": "7gDOF3mU-TAn"
      },
      "source": [
        "**3) Compiler Darknet avec le GPU**\n"
      ]
    },
    {
      "cell_type": "code",
      "metadata": {
        "id": "5H-Taj06Tw1c"
      },
      "source": [
        "# Activer le GPU et OPENCV \n",
        "%cd darknet\n",
        "!sed -i 's/OPENCV=0/OPENCV=1/' Makefile\n",
        "!sed -i 's/GPU=0/GPU=1/' Makefile\n",
        "!sed -i 's/CUDNN=0/CUDNN=1/' Makefile\n",
        "!make"
      ],
      "execution_count": null,
      "outputs": []
    },
    {
      "cell_type": "markdown",
      "metadata": {
        "id": "gAOLtA_qI9vF"
      },
      "source": [
        "**4) Configurer le réseau Darknet pour le Training de YOLOv3**\n",
        "\n"
      ]
    },
    {
      "cell_type": "code",
      "metadata": {
        "id": "s-RpscgU853t"
      },
      "source": [
        "# Création du fichier de configuration yolov3\n",
        "!cp cfg/yolov3.cfg cfg/yolov3_training.cfg # Création d'une copie du fichier yolov3.cfg\n",
        "!ls"
      ],
      "execution_count": null,
      "outputs": []
    },
    {
      "cell_type": "code",
      "metadata": {
        "id": "5ZgVQRop_vwR"
      },
      "source": [
        "!sed -i 's/batch=1/batch=64/' cfg/yolov3_training.cfg\n",
        "!sed -i 's/subdivisions=1/subdivisions=16/' cfg/yolov3_training.cfg\n",
        "!sed -i 's/max_batches = 500200/max_batches = 2000/' cfg/yolov3_training.cfg\n",
        "!sed -i '610 s@classes=80@classes=1@' cfg/yolov3_training.cfg\n",
        "!sed -i '696 s@classes=80@classes=1@' cfg/yolov3_training.cfg\n",
        "!sed -i '783 s@classes=80@classes=1@' cfg/yolov3_training.cfg\n",
        "!sed -i '603 s@filters=255@filters=18@' cfg/yolov3_training.cfg\n",
        "!sed -i '689 s@filters=255@filters=18@' cfg/yolov3_training.cfg\n",
        "!sed -i '776 s@filters=255@filters=18@' cfg/yolov3_training.cfg\n",
        "# Explications :\n",
        "# Batch : nombre de données (images) utilisées dans une itération (c'est-à-dire, une mise à jour du gradient) \n",
        "# de l'entraînement du modèle. Plus la taille du lot est élevée, plus vous aurez besoin d'espace mémoire.\n",
        "# Subdivisions = 16 -> Diviser le lot en 16 \"mini-lots\" donc 64/16 = 4 images par \"mini-lots\" et ceci est envoyé au GPU pour le traitement.\n",
        "# Max_batches : Le nombre maximum d'itérations pour entraîner notre réseau de neurones.\n",
        "# classes=80@classes=1 : La configuration par défaut de yolov3 est entraîner à détecter 80 classes, \n",
        "# dans notre exemple on détecte une seule classe 'turtle' ainsi on remplace 80 par 1\n",
        "# filters=255@filters=18 : règle pour calculer le nombre de filtres : filters=(classes + 5)x3 \n",
        "# Donc, si le nombre de classes = 1, alors filters = 18"
      ],
      "execution_count": null,
      "outputs": []
    },
    {
      "cell_type": "code",
      "metadata": {
        "id": "nscRN-X2Mr3d"
      },
      "source": [
        "# Create folder on google drive so that we can save there the weights\n",
        "#!mkdir \"yolov3\""
      ],
      "execution_count": null,
      "outputs": []
    },
    {
      "cell_type": "code",
      "metadata": {
        "id": "7AIBw_psIclz"
      },
      "source": [
        "!echo \"tortue\" > data/obj.names # le fichier 'obj.names' présent dans le chemin darknet/data va contenir les labels des classes( une seule pour nous 'tortue')\n",
        "!echo -e 'classes= 1\\ntrain  = data/train.txt\\nvalid  = data/test.txt\\nnames = data/obj.names\\nbackup = /mydrive/yolov3' > data/obj.data\n",
        "# L'option -e est utilisée pour activer l'interprétation par Echo d'instances supplémentaires du caractère de nouvelle ligne. \n",
        "# Le fichier 'obj.data' va contenir les éléments suivants : \n",
        "# classes : le nombre de classes qu'on veut détecter.\n",
        "# train.txt : le fichier texte 'train.txt' va contenir le chemin de toutes les images de la base de données.\n",
        "# backup : est l'endroit où vous souhaitez stocker le fichier de poids yolo, ces fichiers seront les résultats de notre apprentissage et qui vont nous permettre de tester notre modèle."
      ],
      "execution_count": null,
      "outputs": []
    },
    {
      "cell_type": "code",
      "metadata": {
        "id": "eZlkzFMW7I_N"
      },
      "source": [
        "# Charger les poids darknet model 53\n",
        "!wget https://pjreddie.com/media/files/darknet53.conv.74"
      ],
      "execution_count": null,
      "outputs": []
    },
    {
      "cell_type": "markdown",
      "metadata": {
        "id": "9RbVKJjoncW2"
      },
      "source": [
        "**5) Extraction des images de la base de données**"
      ]
    },
    {
      "cell_type": "code",
      "metadata": {
        "id": "jhb5nZvsQ_96"
      },
      "source": [
        "# Les images sont dans le fichier 'images.zip' qui est ajouté dans le dossier 'yolov3' de Google Drive\n",
        "!mkdir data/obj # Création d'un dossier 'obj' dans le chemin darknet/data, ce dossier va contenir toutes les images + fichiers '.txt' de la base de données.\n",
        "!unzip /mydrive/yolov3/images.zip -d data/obj"
      ],
      "execution_count": null,
      "outputs": []
    },
    {
      "cell_type": "code",
      "metadata": {
        "id": "5I_0ht7ITMUu",
        "outputId": "addc034c-aeb6-4213-cd58-b4dfecbb10a7",
        "colab": {
          "base_uri": "https://localhost:8080/",
          "height": 54
        }
      },
      "source": [
        "import glob\n",
        "images_list = glob.glob(\"data/obj/*.jpg\" )# list de toutes les images de la base de données.\n",
        "print(images_list)"
      ],
      "execution_count": null,
      "outputs": [
        {
          "output_type": "stream",
          "text": [
            "['data/obj/1440x810_cmsv2_8579a181-2a45-535f-8e70-a8a975c537b2-4515870.jpg', 'data/obj/1905-header-world-turtle-day-797x57px_tcm1005-547715.jpg', 'data/obj/2019_12_30_84136_1577702863._large.jpg', 'data/obj/370884.jpg', 'data/obj/01494894-2.jpg', 'data/obj/10133700-3x2-xlarge.jpg', 'data/obj/18147278_web1_TSR-Turtletroubles-JSJ-190821.jpg', 'data/obj/42088354132_ba9c3c6f84_b.jpg', 'data/obj/200420093341-01-thailand-sea-turtle.jpg', 'data/obj/a84a7927596eeda322eea7cfcee25a37.jpg', 'data/obj/aDrjRBLrayuq53z5m8S5zk-320-80.jpg', 'data/obj/a-young-green-sea-turtle-Chelonia-mydas.jpg', 'data/obj/drifters-guide-too-rare-to-wear-turtles.jpg', 'data/obj/F5A919-1440x720.jpg', 'data/obj/facts-turtles.jpg', 'data/obj/Florida_Box_Turtle_Digon3_re-edited.jpg', 'data/obj/green-sea-turtle-msullivan-noaa_permit1013707.jpg__1500x670_q85_crop_subsampling-2.jpg', 'data/obj/images0.jpg', 'data/obj/images1.jpg', 'data/obj/images2.jpg', 'data/obj/images3.jpg', 'data/obj/images5.jpg', 'data/obj/images6.jpg', 'data/obj/images7.jpg', 'data/obj/images9.jpg', 'data/obj/images10.jpg', 'data/obj/images12.jpg', 'data/obj/images14.jpg', 'data/obj/images15.jpg', 'data/obj/images16.jpg', 'data/obj/images18.jpg', 'data/obj/images21.jpg', 'data/obj/images22.jpg', 'data/obj/images23.jpg', 'data/obj/images24.jpg', 'data/obj/images25.jpg', 'data/obj/images26.jpg', 'data/obj/images27.jpg', 'data/obj/images29.jpg', 'data/obj/images31.jpg', 'data/obj/images32.jpg', 'data/obj/images33.jpg', 'data/obj/images34.jpg', 'data/obj/images35.jpg', 'data/obj/images36.jpg', 'data/obj/images38.jpg', 'data/obj/images39.jpg', 'data/obj/images40.jpg', 'data/obj/images41.jpg', 'data/obj/images42.jpg', 'data/obj/images44.jpg', 'data/obj/images46.jpg', 'data/obj/images47.jpg', 'data/obj/images48.jpg', 'data/obj/images52.jpg', 'data/obj/images53.jpg', 'data/obj/images54.jpg', 'data/obj/images55.jpg', 'data/obj/images57.jpg', 'data/obj/images58.jpg', 'data/obj/images59.jpg', 'data/obj/images60.jpg', 'data/obj/images61.jpg', 'data/obj/images62.jpg', 'data/obj/images64.jpg', 'data/obj/images66.jpg', 'data/obj/images67.jpg', 'data/obj/images68.jpg', 'data/obj/images69.jpg', 'data/obj/images70.jpg', 'data/obj/images71.jpg', 'data/obj/images73.jpg', 'data/obj/images74.jpg', 'data/obj/images75.jpg', 'data/obj/images76.jpg', 'data/obj/images77.jpg', 'data/obj/images78.jpg', 'data/obj/images81.jpg', 'data/obj/images82.jpg', 'data/obj/images83.jpg', 'data/obj/images84.jpg', 'data/obj/images85.jpg', 'data/obj/images87.jpg', 'data/obj/images89.jpg', 'data/obj/images90.jpg', 'data/obj/images91.jpg', 'data/obj/images92.jpg', 'data/obj/images93.jpg', 'data/obj/images94.jpg', 'data/obj/images96.jpg', 'data/obj/images97.jpg', 'data/obj/images98.jpg', 'data/obj/images99.jpg', 'data/obj/images100.jpg', 'data/obj/images101.jpg', 'data/obj/images102.jpg', 'data/obj/images103.jpg', 'data/obj/images104.jpg', 'data/obj/images105.jpg', 'data/obj/images106.jpg', 'data/obj/images109.jpg', 'data/obj/images111.jpg', 'data/obj/images112.jpg', 'data/obj/images114.jpg', 'data/obj/images115.jpg', 'data/obj/images116.jpg', 'data/obj/images117.jpg', 'data/obj/images120.jpg', 'data/obj/images123.jpg', 'data/obj/images124.jpg', 'data/obj/images125.jpg', 'data/obj/images126.jpg', 'data/obj/images127.jpg', 'data/obj/images128.jpg', 'data/obj/images129.jpg', 'data/obj/images130.jpg', 'data/obj/images132.jpg', 'data/obj/images133.jpg', 'data/obj/images135.jpg', 'data/obj/images136.jpg', 'data/obj/images137.jpg', 'data/obj/images139.jpg', 'data/obj/images141.jpg', 'data/obj/images143.jpg', 'data/obj/images144.jpg', 'data/obj/images146.jpg', 'data/obj/images147.jpg', 'data/obj/images150.jpg', 'data/obj/images151.jpg', 'data/obj/images152.jpg', 'data/obj/images153.jpg', 'data/obj/images154.jpg', 'data/obj/images155.jpg', 'data/obj/images156.jpg', 'data/obj/images157.jpg', 'data/obj/images158.jpg', 'data/obj/images159.jpg', 'data/obj/images160.jpg', 'data/obj/images161.jpg', 'data/obj/images162.jpg', 'data/obj/images164.jpg', 'data/obj/images165.jpg', 'data/obj/images166.jpg', 'data/obj/images168.jpg', 'data/obj/images169.jpg', 'data/obj/images171.jpg', 'data/obj/images172.jpg', 'data/obj/images174.jpg', 'data/obj/images175.jpg', 'data/obj/images176.jpg', 'data/obj/images177.jpg', 'data/obj/images178.jpg', 'data/obj/images179.jpg', 'data/obj/images180.jpg', 'data/obj/images181.jpg', 'data/obj/images182.jpg', 'data/obj/images183.jpg', 'data/obj/images185.jpg', 'data/obj/images187.jpg', 'data/obj/images190.jpg', 'data/obj/images191.jpg', 'data/obj/images192.jpg', 'data/obj/images194.jpg', 'data/obj/images195.jpg', 'data/obj/images196.jpg', 'data/obj/images197.jpg', 'data/obj/images199.jpg', 'data/obj/images200.jpg', 'data/obj/images201.jpg', 'data/obj/images202.jpg', 'data/obj/images203.jpg', 'data/obj/images204.jpg', 'data/obj/images205.jpg', 'data/obj/images206.jpg', 'data/obj/images207.jpg', 'data/obj/images208.jpg', 'data/obj/images209.jpg', 'data/obj/images210.jpg', 'data/obj/images212.jpg', 'data/obj/images213.jpg', 'data/obj/images214.jpg', 'data/obj/images215.jpg', 'data/obj/images216.jpg', 'data/obj/images217.jpg', 'data/obj/images218.jpg', 'data/obj/images219.jpg', 'data/obj/images220.jpg', 'data/obj/images221.jpg', 'data/obj/images222.jpg', 'data/obj/images223.jpg', 'data/obj/images224.jpg', 'data/obj/images225.jpg', 'data/obj/images226.jpg', 'data/obj/images227.jpg', 'data/obj/images228.jpg', 'data/obj/images229.jpg', 'data/obj/images230.jpg', 'data/obj/images231.jpg', 'data/obj/images232.jpg', 'data/obj/images233.jpg', 'data/obj/images234.jpg', 'data/obj/images235.jpg', 'data/obj/images237.jpg', 'data/obj/images238.jpg', 'data/obj/images239.jpg', 'data/obj/images240.jpg', 'data/obj/images241.jpg', 'data/obj/images242.jpg', 'data/obj/images245.jpg', 'data/obj/images246.jpg', 'data/obj/images247.jpg', 'data/obj/images249.jpg', 'data/obj/images250.jpg', 'data/obj/images251.jpg', 'data/obj/images252.jpg', 'data/obj/images253.jpg', 'data/obj/images254.jpg', 'data/obj/images256.jpg', 'data/obj/images258.jpg', 'data/obj/images259.jpg', 'data/obj/images260.jpg', 'data/obj/images261.jpg', 'data/obj/images262.jpg', 'data/obj/images263.jpg', 'data/obj/images264.jpg', 'data/obj/images265.jpg', 'data/obj/images266.jpg', 'data/obj/images267.jpg', 'data/obj/images268.jpg', 'data/obj/images269.jpg', 'data/obj/images270.jpg', 'data/obj/images271.jpg', 'data/obj/images272.jpg', 'data/obj/images273.jpg', 'data/obj/images274.jpg', 'data/obj/images275.jpg', 'data/obj/images276.jpg', 'data/obj/images277.jpg', 'data/obj/images278.jpg', 'data/obj/images279.jpg', 'data/obj/images280.jpg', 'data/obj/images281.jpg', 'data/obj/images282.jpg', 'data/obj/images283.jpg', 'data/obj/images284.jpg', 'data/obj/images285.jpg', 'data/obj/images286.jpg', 'data/obj/images287.jpg', 'data/obj/images289.jpg', 'data/obj/images290.jpg', 'data/obj/images291.jpg', 'data/obj/images292.jpg', 'data/obj/images294.jpg', 'data/obj/images295.jpg', 'data/obj/images296.jpg', 'data/obj/images297.jpg', 'data/obj/images298.jpg', 'data/obj/images299.jpg', 'data/obj/images300.jpg', 'data/obj/images301.jpg', 'data/obj/images302.jpg', 'data/obj/images305.jpg', 'data/obj/images306.jpg', 'data/obj/images309.jpg', 'data/obj/images312.jpg', 'data/obj/images313.jpg', 'data/obj/images314.jpg', 'data/obj/images315.jpg', 'data/obj/images316.jpg', 'data/obj/images317.jpg', 'data/obj/images319.jpg', 'data/obj/images320.jpg', 'data/obj/images321.jpg', 'data/obj/images323.jpg', 'data/obj/images324.jpg', 'data/obj/images325.jpg', 'data/obj/images326.jpg', 'data/obj/images327.jpg', 'data/obj/images329.jpg', 'data/obj/images330.jpg', 'data/obj/images333.jpg', 'data/obj/images334.jpg', 'data/obj/images335.jpg', 'data/obj/images340.jpg', 'data/obj/images341.jpg', 'data/obj/images342.jpg', 'data/obj/images343.jpg', 'data/obj/images344.jpg', 'data/obj/images345.jpg', 'data/obj/images347.jpg', 'data/obj/images348.jpg', 'data/obj/images349.jpg', 'data/obj/images350.jpg', 'data/obj/images351.jpg', 'data/obj/images352.jpg', 'data/obj/images353.jpg', 'data/obj/images354.jpg', 'data/obj/images355.jpg', 'data/obj/images357.jpg', 'data/obj/images359.jpg', 'data/obj/images360.jpg', 'data/obj/images361.jpg', 'data/obj/images362.jpg', 'data/obj/images363.jpg', 'data/obj/images364.jpg', 'data/obj/images365.jpg', 'data/obj/images366.jpg', 'data/obj/images367.jpg', 'data/obj/images368.jpg', 'data/obj/images369.jpg', 'data/obj/images372.jpg', 'data/obj/images373.jpg', 'data/obj/images375.jpg', 'data/obj/images377.jpg', 'data/obj/images378.jpg', 'data/obj/images379.jpg', 'data/obj/images381.jpg', 'data/obj/images382.jpg', 'data/obj/images384.jpg', 'data/obj/images385.jpg', 'data/obj/images386.jpg', 'data/obj/images387.jpg', 'data/obj/images388.jpg', 'data/obj/images389.jpg', 'data/obj/images390.jpg', 'data/obj/images393.jpg', 'data/obj/images395.jpg', 'data/obj/images398.jpg', 'data/obj/images399.jpg', 'data/obj/images400.jpg', 'data/obj/images402.jpg', 'data/obj/images403.jpg', 'data/obj/images404.jpg', 'data/obj/images405.jpg', 'data/obj/images406.jpg', 'data/obj/images407.jpg', 'data/obj/images408.jpg', 'data/obj/images410.jpg', 'data/obj/images411.jpg', 'data/obj/images412.jpg', 'data/obj/images413.jpg', 'data/obj/images416.jpg', 'data/obj/images417.jpg', 'data/obj/images418.jpg', 'data/obj/images419.jpg', 'data/obj/images420.jpg', 'data/obj/images423.jpg', 'data/obj/images424.jpg', 'data/obj/images425.jpg', 'data/obj/images427.jpg', 'data/obj/images428.jpg', 'data/obj/images429.jpg', 'data/obj/images430.jpg', 'data/obj/images431.jpg', 'data/obj/images432.jpg', 'data/obj/images433.jpg', 'data/obj/images434.jpg', 'data/obj/images435.jpg', 'data/obj/images436.jpg', 'data/obj/images438.jpg', 'data/obj/images439.jpg', 'data/obj/images441.jpg', 'data/obj/images443.jpg', 'data/obj/images444.jpg', 'data/obj/images447.jpg', 'data/obj/images448.jpg', 'data/obj/images449.jpg', 'data/obj/images450.jpg', 'data/obj/images451.jpg', 'data/obj/images453.jpg', 'data/obj/images455.jpg', 'data/obj/images456.jpg', 'data/obj/images457.jpg', 'data/obj/images458.jpg', 'data/obj/images459.jpg', 'data/obj/images460.jpg', 'data/obj/images463.jpg', 'data/obj/images464.jpg', 'data/obj/images467.jpg', 'data/obj/images469.jpg', 'data/obj/images470.jpg', 'data/obj/images471.jpg', 'data/obj/images473.jpg', 'data/obj/images474.jpg', 'data/obj/images476.jpg', 'data/obj/images477.jpg', 'data/obj/images478.jpg', 'data/obj/images479.jpg', 'data/obj/images480.jpg', 'data/obj/images481.jpg', 'data/obj/images482.jpg', 'data/obj/images483.jpg', 'data/obj/images484.jpg', 'data/obj/images486.jpg', 'data/obj/images487.jpg', 'data/obj/images489.jpg', 'data/obj/images491.jpg', 'data/obj/images492.jpg', 'data/obj/images493.jpg', 'data/obj/images495.jpg', 'data/obj/images497.jpg', 'data/obj/images499.jpg', 'data/obj/images500.jpg', 'data/obj/images501.jpg', 'data/obj/images503.jpg', 'data/obj/images504.jpg', 'data/obj/images505.jpg', 'data/obj/images506.jpg', 'data/obj/images507.jpg', 'data/obj/images508.jpg', 'data/obj/images509.jpg', 'data/obj/images510.jpg', 'data/obj/images513.jpg', 'data/obj/images514.jpg', 'data/obj/images515.jpg', 'data/obj/images516.jpg', 'data/obj/images517.jpg', 'data/obj/images518.jpg', 'data/obj/images519.jpg', 'data/obj/images521.jpg', 'data/obj/images522.jpg', 'data/obj/images523.jpg', 'data/obj/images524.jpg', 'data/obj/images525.jpg', 'data/obj/images526.jpg', 'data/obj/images527.jpg', 'data/obj/images528.jpg', 'data/obj/images529.jpg', 'data/obj/images530.jpg', 'data/obj/images531.jpg', 'data/obj/images532.jpg', 'data/obj/images533.jpg', 'data/obj/images535.jpg', 'data/obj/images536.jpg', 'data/obj/images537.jpg', 'data/obj/images538.jpg', 'data/obj/images539.jpg', 'data/obj/images540.jpg', 'data/obj/images541.jpg', 'data/obj/images543.jpg', 'data/obj/images544.jpg', 'data/obj/images545.jpg', 'data/obj/images546.jpg', 'data/obj/images547.jpg', 'data/obj/images548.jpg', 'data/obj/images549.jpg', 'data/obj/images550.jpg', 'data/obj/images551.jpg', 'data/obj/images553.jpg', 'data/obj/images555.jpg', 'data/obj/images556.jpg', 'data/obj/images558.jpg', 'data/obj/images559.jpg', 'data/obj/images560.jpg', 'data/obj/images563.jpg', 'data/obj/images565.jpg', 'data/obj/images568.jpg', 'data/obj/images569.jpg', 'data/obj/images571.jpg', 'data/obj/images572.jpg', 'data/obj/images574.jpg', 'data/obj/images576.jpg', 'data/obj/images577.jpg', 'data/obj/images580.jpg', 'data/obj/images581.jpg', 'data/obj/images582.jpg', 'data/obj/images585.jpg', 'data/obj/images586.jpg', 'data/obj/images587.jpg', 'data/obj/images589.jpg', 'data/obj/images590.jpg', 'data/obj/images592.jpg', 'data/obj/images593.jpg', 'data/obj/images594.jpg', 'data/obj/images595.jpg', 'data/obj/images598.jpg', 'data/obj/images600.jpg', 'data/obj/images602.jpg', 'data/obj/images603.jpg', 'data/obj/images604.jpg', 'data/obj/images606.jpg', 'data/obj/images607.jpg', 'data/obj/images608.jpg', 'data/obj/images610.jpg', 'data/obj/images613.jpg', 'data/obj/images614.jpg', 'data/obj/images615.jpg', 'data/obj/images616.jpg', 'data/obj/images617.jpg', 'data/obj/images618.jpg', 'data/obj/images619.jpg', 'data/obj/images620.jpg', 'data/obj/images621.jpg', 'data/obj/images622.jpg', 'data/obj/images623.jpg', 'data/obj/images624.jpg', 'data/obj/images625.jpg', 'data/obj/images626.jpg', 'data/obj/images627.jpg', 'data/obj/images628.jpg', 'data/obj/images629.jpg', 'data/obj/images630.jpg', 'data/obj/images632.jpg', 'data/obj/images633.jpg', 'data/obj/images634.jpg', 'data/obj/images635.jpg', 'data/obj/images636.jpg', 'data/obj/images638.jpg', 'data/obj/images639.jpg', 'data/obj/images640.jpg', 'data/obj/images641.jpg', 'data/obj/images642.jpg', 'data/obj/images643.jpg', 'data/obj/images644.jpg', 'data/obj/images645.jpg', 'data/obj/images647.jpg', 'data/obj/images649.jpg', 'data/obj/images650.jpg', 'data/obj/images651.jpg', 'data/obj/images653.jpg', 'data/obj/images654.jpg', 'data/obj/images656.jpg', 'data/obj/images657.jpg', 'data/obj/images658.jpg', 'data/obj/images659.jpg', 'data/obj/images660.jpg', 'data/obj/images662.jpg', 'data/obj/images663.jpg', 'data/obj/images664.jpg', 'data/obj/images665.jpg', 'data/obj/images666.jpg', 'data/obj/images667.jpg', 'data/obj/images668.jpg', 'data/obj/images669.jpg', 'data/obj/images670.jpg', 'data/obj/images672.jpg', 'data/obj/images673.jpg', 'data/obj/images674.jpg', 'data/obj/images677.jpg', 'data/obj/images683.jpg', 'data/obj/images684.jpg', 'data/obj/images685.jpg', 'data/obj/images686.jpg', 'data/obj/images687.jpg', 'data/obj/images688.jpg', 'data/obj/images689.jpg', 'data/obj/images690.jpg', 'data/obj/images691.jpg', 'data/obj/images693.jpg', 'data/obj/images694.jpg', 'data/obj/images695.jpg', 'data/obj/images696.jpg', 'data/obj/images698.jpg', 'data/obj/images699.jpg', 'data/obj/images700.jpg', 'data/obj/images705.jpg', 'data/obj/images706.jpg', 'data/obj/images708.jpg', 'data/obj/images709.jpg', 'data/obj/images710.jpg', 'data/obj/images711.jpg', 'data/obj/images713.jpg', 'data/obj/images714.jpg', 'data/obj/images715.jpg', 'data/obj/images716.jpg', 'data/obj/images717.jpg', 'data/obj/images718.jpg', 'data/obj/IMG_5247.jpg', 'data/obj/Loggerhead_web_1024.jpg', 'data/obj/loggerhead-sea-turtle_02adapt19001JPG.jpg', 'data/obj/maxresdefault.jpg', 'data/obj/Medium_WW1113937.jpg', 'data/obj/MIWAY_VOLUNTEER7.JPG_t1200.jpg', 'data/obj/New-species-of-ancient-sea-turtle-discovered-among-fossils.jpg', 'data/obj/poolboy-hatchling-100-1200-wide.jpg', 'data/obj/PORC-BL83_Blue_Sea_Turtle.jpg', 'data/obj/Sea_Turtle_Hol_Chan_Marine_Reserve_WW1105958.jpg', 'data/obj/sea-2361247_1280.jpg', 'data/obj/sea-turtle.jpg', 'data/obj/sea-turtle-547162_1920-e1534168069327-1440x720.jpg', 'data/obj/sea-turtle-iStock_000011381141Large-e1547156592926-1280x720.jpg', 'data/obj/sea-turtles-plastic.jpg', 'data/obj/SnappingTurtle_web_1024.jpg', 'data/obj/SnorkelingwithSeaTurtlesatMirissa.jpg', 'data/obj/star-turtle-e1565615666276.jpg', 'data/obj/turtle.jpg', 'data/obj/turtle_16x9_0.jpg', 'data/obj/TURTLE1-RSZ-1024x658.jpg', 'data/obj/turtle-with-coral-makena-e1568415270913.jpg', 'data/obj/warmingwarni.jpg', 'data/obj/_110885929_mediaitem110885897.jpg', 'data/obj/_112230728_gettyimages-138058528.jpg', 'data/obj/1-30-turtles-new-jersey-smuggling-.2e16d0ba.fill-735x490.jpg', 'data/obj/3.6.1.-Loggerhead-sea-turtle-L.jpg', 'data/obj/4kb4EamuYscx4CuxpdzGPS.jpg', 'data/obj/61Xn3YKcjOL._AC_SX466_.jpg', 'data/obj/71pECUqo-pL._AC_SY355_.jpg', 'data/obj/960x0.jpg', 'data/obj/1440x810_cmsv2_4878ab18-fea0-595c-8a2b-c13c3033fdd9-4466000.jpg']\n"
          ],
          "name": "stdout"
        }
      ]
    },
    {
      "cell_type": "code",
      "metadata": {
        "id": "EzygoAtMSnon"
      },
      "source": [
        "# Création du fichier  train.txt \n",
        "file = open(\"data/train.txt\", \"w\") \n",
        "file.write(\"\\n\".join(images_list)) \n",
        "file.close() "
      ],
      "execution_count": null,
      "outputs": []
    },
    {
      "cell_type": "markdown",
      "metadata": {
        "id": "CeSiuLrXoAjc"
      },
      "source": [
        "**6) Commencer le training**"
      ]
    },
    {
      "cell_type": "code",
      "metadata": {
        "id": "S3_g3jclUzMm"
      },
      "source": [
        "# Commencer le training\n",
        "!./darknet detector train \"/mydrive/yolov3/darknet/data/obj.data\" \"/mydrive/yolov3/darknet/cfg/yolov3_training.cfg\" \"/mydrive/yolov3/darknet/darknet53.conv.74\" -dont_show\n",
        "# A la fin du training récupérer les deux fichiers yolov3_training_last.weights et yolov3_training.cfg, ces fichiers sont utilisés pour tester votre modèle."
      ],
      "execution_count": null,
      "outputs": []
    }
  ]
}